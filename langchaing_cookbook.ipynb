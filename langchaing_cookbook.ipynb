{
 "cells": [
  {
   "cell_type": "markdown",
   "metadata": {},
   "source": [
    "### LangChain ?\n",
    "\n",
    "- LangChain은 언어 모델에 의해 작동하는 애플리케이션을 개발하기 위한 프레임워크이다.\n",
    "\n",
    "**TLDR**\n",
    "\n",
    "LangChain은 아래의 2가지 방법를 통해 AI 모델을 작동하거나 빌드하는 복잡한 과정을 더 쉽게 할 수 있도록 한다.\n",
    "\n",
    "1. Integration - 파일, 다른 애플리케이션이나 API 데이터와 같은 외부 데이터를 쉽게 가져올 수 있다.\n",
    "\n",
    "2. Agency - LLMs가 주어진 환경과 상호 작용하도록 하여 다음 수행할 작업을 결정하는데 도움을 준다.\n",
    "\n",
    "### Why LangChain ?\n",
    "\n",
    "1. Components - LangChain을 사용하면 언어 모델에 작동하기에 필요한 구성요소들을 쉽게 다룰 수 있다.\n",
    "\n",
    "2. Customized Chains - LangChain은 커스터마이징이 가능한 chains라는 컴포넌트를 지원한다.\n",
    "\n",
    "3. Speed - LangChain팀은 매우 빠른 속도로 개발하기 때문에 LLMs의 최신 기능들을 사용할 수 있다.\n",
    "\n",
    "4. Community - 디스코드와 같은 커뮤니티가 활성화 되어 있다."
   ]
  },
  {
   "cell_type": "code",
   "execution_count": null,
   "metadata": {},
   "outputs": [],
   "source": [
    "openai_api_key = '...'"
   ]
  }
 ],
 "metadata": {
  "language_info": {
   "name": "python"
  }
 },
 "nbformat": 4,
 "nbformat_minor": 2
}
